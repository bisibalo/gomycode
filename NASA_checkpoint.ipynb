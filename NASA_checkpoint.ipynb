{
 "cells": [
  {
   "cell_type": "markdown",
   "id": "51b1ba12-1a93-4e94-ab8d-96ca679c1a83",
   "metadata": {},
   "source": [
    "####  What You're Aiming For\n",
    "\n",
    "The objective  is to practice accessing and using NASA's public APIs to retrieve and manipulate space-related data, including obtaining an API key, making API requests, processing data into a pandas DataFrame, and exporting the results to a CSV file for sharing.\n",
    "\n",
    "Instructions\n",
    "\n",
    "In this checkpoint, we are going to practice consuming public APIs through the NASA public APIs portal.\n",
    "\n",
    "Portal description : The objective of this portal is to make NASA data, including imagery, eminently accessible to application developers and data professionals. Before starting to use its APIs endpoints, it's mandatory that you generate your API KEY and store it somewhere for later use. The API key acts as the user identifier when requesting the API. To get your KEY, fill in the provided form with your personal information, and then we shall receive an email containing your personal API KEY.\n",
    "\n",
    "➡️ NASA API PORTAL\n",
    "\n",
    "https://i.imgur.com/hisTmpk.png\n",
    "\n",
    " \n",
    "\n",
    "    Go to the NASA API portal and generate your API KEY\n",
    "    Import the requests package and store your API KEY in variable\n",
    "    Go back to portal website and click on 'browse APIs'\n",
    "    Click on the first dropdown menu, named 'APOD' and read its documentation\n",
    "    Follow the provided documentation to ask the API endpoint for the astronomy picture of the day. Get then display the image on your notebook.\n",
    "    Go through the list of the provided API endpoints once again and select 'Asteroids - NeoWs' option. Store the results in a pandas dataframe.\n",
    "    Do the necessary data pre-processing tasks on the previous result in order to get a clean dataframe with the following columns :\n",
    "        Asteroid ID\n",
    "        Asteroid name\n",
    "        The Minimal estimated diameter in Kilometre\n",
    "        Absolute_magnitude\n",
    "        Relative_velocity(km/s)\n",
    "    Try to export the new dataframe into a CSV file and share it with your colleagues"
   ]
  },
  {
   "cell_type": "code",
   "execution_count": 2,
   "id": "84d8032e-b270-4873-966a-27f8780947c6",
   "metadata": {},
   "outputs": [],
   "source": [
    "import requests\n",
    "import pandas as pd\n",
    "from IPython.display import Image, display"
   ]
  },
  {
   "cell_type": "code",
   "execution_count": 3,
   "id": "b49711e9-4411-4e67-a1df-f13590074778",
   "metadata": {},
   "outputs": [],
   "source": [
    "API_KEY = 'Bt88iwGQ92shwHW2aO1GWmCRP4Nsm7l0Q8WpVQwj'"
   ]
  },
  {
   "cell_type": "code",
   "execution_count": 4,
   "id": "ac866fd6-8568-4f1a-8271-45e032b60ad4",
   "metadata": {},
   "outputs": [],
   "source": [
    "apod_url = f'https://api.nasa.gov/planetary/apod?api_key={API_KEY}'"
   ]
  },
  {
   "cell_type": "code",
   "execution_count": 5,
   "id": "07cfd215-4873-488c-a651-e10609ae6bb8",
   "metadata": {},
   "outputs": [],
   "source": [
    "response = requests.get(apod_url)\n",
    "apod_data = response.json()"
   ]
  },
  {
   "cell_type": "code",
   "execution_count": 6,
   "id": "2c2448f0-6ce3-4459-bbe3-b8e514fb690a",
   "metadata": {},
   "outputs": [
    {
     "data": {
      "text/html": [
       "<img src=\"https://apod.nasa.gov/apod/image/2503/QuadMoon_Minato_960.jpg\"/>"
      ],
      "text/plain": [
       "<IPython.core.display.Image object>"
      ]
     },
     "metadata": {},
     "output_type": "display_data"
    }
   ],
   "source": [
    "if 'url' in apod_data:\n",
    "    display(Image(url=apod_data['url']))\n",
    "else:\n",
    "    print(\"Image URL not found.\")"
   ]
  },
  {
   "cell_type": "code",
   "execution_count": 7,
   "id": "763e5888-1dd7-452b-9da1-c3f6767e5a34",
   "metadata": {},
   "outputs": [],
   "source": [
    "neows_url = f'https://api.nasa.gov/neo/rest/v1/neo/browse?api_key={API_KEY}'"
   ]
  },
  {
   "cell_type": "code",
   "execution_count": 8,
   "id": "14f9a741-dc4d-43b4-a182-9984ca2e81ea",
   "metadata": {},
   "outputs": [],
   "source": [
    "response = requests.get(neows_url)\n",
    "asteroid_data = response.json()"
   ]
  },
  {
   "cell_type": "code",
   "execution_count": 9,
   "id": "c5f1de0c-8e56-448a-ab8a-f5206c14a289",
   "metadata": {},
   "outputs": [],
   "source": [
    "asteroids = pd.DataFrame(asteroid_data['near_earth_objects'])"
   ]
  },
  {
   "cell_type": "code",
   "execution_count": 10,
   "id": "107c887f-6f21-4617-84f8-699b8cdb9b77",
   "metadata": {},
   "outputs": [],
   "source": [
    "clean_asteroids = asteroids[['id', 'name', 'estimated_diameter', 'absolute_magnitude_h', 'close_approach_data']]"
   ]
  },
  {
   "cell_type": "code",
   "execution_count": 11,
   "id": "68b7ebfc-0784-4c5c-bd31-697ed76c2ac7",
   "metadata": {},
   "outputs": [
    {
     "name": "stderr",
     "output_type": "stream",
     "text": [
      "C:\\Users\\HP\\AppData\\Local\\Temp\\ipykernel_19504\\2004329309.py:1: SettingWithCopyWarning: \n",
      "A value is trying to be set on a copy of a slice from a DataFrame.\n",
      "Try using .loc[row_indexer,col_indexer] = value instead\n",
      "\n",
      "See the caveats in the documentation: https://pandas.pydata.org/pandas-docs/stable/user_guide/indexing.html#returning-a-view-versus-a-copy\n",
      "  clean_asteroids.loc[:, 'min_diameter_km'] = clean_asteroids['estimated_diameter'].apply(lambda x: x['kilometers']['estimated_diameter_min'])\n"
     ]
    }
   ],
   "source": [
    "clean_asteroids.loc[:, 'min_diameter_km'] = clean_asteroids['estimated_diameter'].apply(lambda x: x['kilometers']['estimated_diameter_min'])"
   ]
  },
  {
   "cell_type": "code",
   "execution_count": 12,
   "id": "db3559d7-4d32-488a-ae60-1581f3355bd9",
   "metadata": {},
   "outputs": [],
   "source": [
    "final_asteroid_df = clean_asteroids[['id', 'name', 'min_diameter_km', 'absolute_magnitude_h']]"
   ]
  },
  {
   "cell_type": "code",
   "execution_count": 13,
   "id": "7496e845-4960-46f7-a688-37f6cddf587c",
   "metadata": {},
   "outputs": [],
   "source": [
    "columns_to_select = ['id', 'name', 'min_diameter_km', 'absolute_magnitude_h', 'relative_velocity_km_s']\n",
    "final_asteroid_df = clean_asteroids[[col for col in columns_to_select if col in clean_asteroids.columns]]"
   ]
  },
  {
   "cell_type": "code",
   "execution_count": 14,
   "id": "98c38622-cc49-4cdc-aa42-4253f5e7664e",
   "metadata": {},
   "outputs": [
    {
     "name": "stdout",
     "output_type": "stream",
     "text": [
      "        id                    name  min_diameter_km  absolute_magnitude_h\n",
      "0  2000433      433 Eros (A898 PA)        22.006703                 10.41\n",
      "1  2000719    719 Albert (A911 TB)         2.025606                 15.59\n",
      "2  2000887    887 Alinda (A918 AA)         4.619075                 13.80\n",
      "3  2001036  1036 Ganymed (A924 UB)        38.775283                  9.18\n",
      "4  2001221    1221 Amor (1932 EA1)         0.892391                 17.37\n"
     ]
    }
   ],
   "source": [
    "print(final_asteroid_df.head())"
   ]
  },
  {
   "cell_type": "code",
   "execution_count": 15,
   "id": "6832fbdb-6d1f-4f6a-bb1b-d0422a891644",
   "metadata": {},
   "outputs": [
    {
     "name": "stdout",
     "output_type": "stream",
     "text": [
      "Data exported to asteroid_data.csv.\n"
     ]
    }
   ],
   "source": [
    "final_asteroid_df.to_csv('asteroid_data.csv', index=False)\n",
    "print(\"Data exported to asteroid_data.csv.\")"
   ]
  },
  {
   "cell_type": "code",
   "execution_count": null,
   "id": "3815484b-fb9f-40fd-81a4-f5fe2b507a34",
   "metadata": {},
   "outputs": [],
   "source": []
  }
 ],
 "metadata": {
  "kernelspec": {
   "display_name": "Python 3 (ipykernel)",
   "language": "python",
   "name": "python3"
  },
  "language_info": {
   "codemirror_mode": {
    "name": "ipython",
    "version": 3
   },
   "file_extension": ".py",
   "mimetype": "text/x-python",
   "name": "python",
   "nbconvert_exporter": "python",
   "pygments_lexer": "ipython3",
   "version": "3.12.7"
  }
 },
 "nbformat": 4,
 "nbformat_minor": 5
}
