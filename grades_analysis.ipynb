{
 "cells": [
  {
   "cell_type": "code",
   "execution_count": 1,
   "id": "534dd699-0936-4df8-9253-0c8d47b7481e",
   "metadata": {},
   "outputs": [],
   "source": [
    "import numpy as np"
   ]
  },
  {
   "cell_type": "code",
   "execution_count": 2,
   "id": "822ef319-94e9-4dd6-9aa9-bf888ce536e0",
   "metadata": {},
   "outputs": [],
   "source": [
    "grade = np.array([85,90,88,92,95,80,75,98,89,83])"
   ]
  },
  {
   "cell_type": "code",
   "execution_count": 3,
   "id": "da87dd3f-ef91-481e-b1f6-07900a3ef351",
   "metadata": {},
   "outputs": [
    {
     "data": {
      "text/plain": [
       "array([85, 90, 88, 92, 95, 80, 75, 98, 89, 83])"
      ]
     },
     "execution_count": 3,
     "metadata": {},
     "output_type": "execute_result"
    }
   ],
   "source": [
    "grade"
   ]
  },
  {
   "cell_type": "code",
   "execution_count": 4,
   "id": "c8807c44-81f6-4b0b-ab3c-9c95c76f1b4e",
   "metadata": {},
   "outputs": [],
   "source": [
    "# To calculate mean \n",
    "mean_grade=np.mean(grade)"
   ]
  },
  {
   "cell_type": "code",
   "execution_count": 5,
   "id": "f9abcbe7-c597-4d99-9c18-0c59ad43827a",
   "metadata": {},
   "outputs": [
    {
     "data": {
      "text/plain": [
       "87.5"
      ]
     },
     "execution_count": 5,
     "metadata": {},
     "output_type": "execute_result"
    }
   ],
   "source": [
    "mean_grade"
   ]
  },
  {
   "cell_type": "code",
   "execution_count": 6,
   "id": "b3586c07-9247-4859-b004-b8fa9581e87b",
   "metadata": {},
   "outputs": [
    {
     "data": {
      "text/plain": [
       "88.5"
      ]
     },
     "execution_count": 6,
     "metadata": {},
     "output_type": "execute_result"
    }
   ],
   "source": [
    "# to calculate median\n",
    "\n",
    "median_grade=np.median(grade)\n",
    "median_grade"
   ]
  },
  {
   "cell_type": "code",
   "execution_count": 7,
   "id": "62bee08d-7a1a-43d3-b59b-0a9582225f63",
   "metadata": {},
   "outputs": [
    {
     "data": {
      "text/plain": [
       "6.591661399070799"
      ]
     },
     "execution_count": 7,
     "metadata": {},
     "output_type": "execute_result"
    }
   ],
   "source": [
    "# to calculate standard deviation\n",
    "\n",
    "std_grade =np.std(grade)\n",
    "std_grade"
   ]
  },
  {
   "cell_type": "code",
   "execution_count": 8,
   "id": "743661f5-cf37-419f-b671-bcbe1d4fd18d",
   "metadata": {},
   "outputs": [
    {
     "data": {
      "text/plain": [
       "98"
      ]
     },
     "execution_count": 8,
     "metadata": {},
     "output_type": "execute_result"
    }
   ],
   "source": [
    "# Use numpy function to find the maximum and minimum of the grades.\n",
    "\n",
    "max_grade = np.max(grade)\n",
    "max_grade"
   ]
  },
  {
   "cell_type": "code",
   "execution_count": 9,
   "id": "0bb91e12-8d59-4ed9-8836-cf716bc09ba0",
   "metadata": {},
   "outputs": [
    {
     "data": {
      "text/plain": [
       "75"
      ]
     },
     "execution_count": 9,
     "metadata": {},
     "output_type": "execute_result"
    }
   ],
   "source": [
    "min_grade = np.min(grade)\n",
    "min_grade"
   ]
  },
  {
   "cell_type": "code",
   "execution_count": 10,
   "id": "d9035073-002a-4d9d-9753-8c043ff2bf9f",
   "metadata": {},
   "outputs": [
    {
     "name": "stdout",
     "output_type": "stream",
     "text": [
      "your minimum grade is 75\n"
     ]
    }
   ],
   "source": [
    "print(f'your minimum grade is {min_grade}')"
   ]
  },
  {
   "cell_type": "code",
   "execution_count": 11,
   "id": "b09bcc3e-4a93-4c41-9129-d208b0e937c9",
   "metadata": {},
   "outputs": [
    {
     "data": {
      "text/plain": [
       "array([75, 80, 83, 85, 88, 89, 90, 92, 95, 98])"
      ]
     },
     "execution_count": 11,
     "metadata": {},
     "output_type": "execute_result"
    }
   ],
   "source": [
    "# Use numpy function to sort the grades in ascending order\n",
    "\n",
    "sorted_grades = np.sort(grade)\n",
    "sorted_grades"
   ]
  },
  {
   "cell_type": "code",
   "execution_count": 12,
   "id": "c190303b-c6b6-4b58-8201-dbf5f00b3996",
   "metadata": {},
   "outputs": [
    {
     "data": {
      "text/plain": [
       "7"
      ]
     },
     "execution_count": 12,
     "metadata": {},
     "output_type": "execute_result"
    }
   ],
   "source": [
    "# Use numpy function to find the index of the highest grade in the array.\n",
    "highest_index = np.argmax(grade)\n",
    "highest_index"
   ]
  },
  {
   "cell_type": "code",
   "execution_count": 14,
   "id": "ba16d443-910c-4443-a39f-a68fceef44db",
   "metadata": {},
   "outputs": [
    {
     "data": {
      "text/plain": [
       "3"
      ]
     },
     "execution_count": 14,
     "metadata": {},
     "output_type": "execute_result"
    }
   ],
   "source": [
    "# Use numpy function to count the number of students who scored above 90.\n",
    "\n",
    "count_above_90 = np.sum(np.array(grade) > 90)\n",
    "count_above_90"
   ]
  },
  {
   "cell_type": "code",
   "execution_count": 17,
   "id": "ec4a99c2-fdb3-44c4-9b0b-509a44f918e3",
   "metadata": {},
   "outputs": [
    {
     "data": {
      "text/plain": [
       "30.0"
      ]
     },
     "execution_count": 17,
     "metadata": {},
     "output_type": "execute_result"
    }
   ],
   "source": [
    "# Use numpy function to calculate the percentage of students who scored above 90.\n",
    "\n",
    "above_90 = (np.sum(np.array(grade) > 90) / np.array(grade).size) * 100\n",
    "above_90"
   ]
  },
  {
   "cell_type": "code",
   "execution_count": 19,
   "id": "cf317c72-2f30-46bc-87d6-976f3f51b881",
   "metadata": {},
   "outputs": [
    {
     "data": {
      "text/plain": [
       "0.0"
      ]
     },
     "execution_count": 19,
     "metadata": {},
     "output_type": "execute_result"
    }
   ],
   "source": [
    "# Use numpy function to calculate the percentage of students who scored below 75.\n",
    "\n",
    "below_75 = (np.sum(np.array(grade) < 75) / np.array(grade).size) * 100\n",
    "below_75"
   ]
  },
  {
   "cell_type": "code",
   "execution_count": 21,
   "id": "af951238-e09c-4c2c-a6f3-bbd4608e6104",
   "metadata": {},
   "outputs": [
    {
     "data": {
      "text/plain": [
       "array([92, 95, 98])"
      ]
     },
     "execution_count": 21,
     "metadata": {},
     "output_type": "execute_result"
    }
   ],
   "source": [
    "# Use numpy function to extract all the grades above 90 and put them in a new array called \"high_performers\".\n",
    "grades_array = np.array(grade)\n",
    "high_performers = grades_array[grades_array > 90]\n",
    "high_performers"
   ]
  },
  {
   "cell_type": "code",
   "execution_count": 22,
   "id": "30329765-af7c-483b-9010-449bf1a63cf2",
   "metadata": {},
   "outputs": [
    {
     "data": {
      "text/plain": [
       "array([85, 90, 88, 92, 95, 80, 98, 89, 83])"
      ]
     },
     "execution_count": 22,
     "metadata": {},
     "output_type": "execute_result"
    }
   ],
   "source": [
    "# Create a new array called \"passing_grades\" that contains all the grades above 75.\n",
    "\n",
    "passing_grades = grades_array[grades_array > 75]\n",
    "passing_grades"
   ]
  },
  {
   "cell_type": "code",
   "execution_count": null,
   "id": "9fe5114e-16cf-4ced-bf92-d0023587e2ec",
   "metadata": {},
   "outputs": [],
   "source": []
  }
 ],
 "metadata": {
  "kernelspec": {
   "display_name": "Python 3 (ipykernel)",
   "language": "python",
   "name": "python3"
  },
  "language_info": {
   "codemirror_mode": {
    "name": "ipython",
    "version": 3
   },
   "file_extension": ".py",
   "mimetype": "text/x-python",
   "name": "python",
   "nbconvert_exporter": "python",
   "pygments_lexer": "ipython3",
   "version": "3.12.7"
  }
 },
 "nbformat": 4,
 "nbformat_minor": 5
}
